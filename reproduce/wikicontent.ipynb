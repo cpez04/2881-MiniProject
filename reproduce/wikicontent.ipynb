{
 "cells": [
  {
   "cell_type": "code",
   "execution_count": 1,
   "id": "93048004",
   "metadata": {},
   "outputs": [
    {
     "name": "stdout",
     "output_type": "stream",
     "text": [
      "\n",
      "\u001b[1m[\u001b[0m\u001b[34;49mnotice\u001b[0m\u001b[1;39;49m]\u001b[0m\u001b[39;49m A new release of pip is available: \u001b[0m\u001b[31;49m25.1.1\u001b[0m\u001b[39;49m -> \u001b[0m\u001b[32;49m25.3\u001b[0m\n",
      "\u001b[1m[\u001b[0m\u001b[34;49mnotice\u001b[0m\u001b[1;39;49m]\u001b[0m\u001b[39;49m To update, run: \u001b[0m\u001b[32;49m/opt/homebrew/opt/python@3.11/bin/python3.11 -m pip install --upgrade pip\u001b[0m\n",
      "Note: you may need to restart the kernel to use updated packages.\n"
     ]
    }
   ],
   "source": [
    "%pip install requests tqdm --quiet\n",
    "\n",
    "import os\n",
    "import json\n",
    "import time\n",
    "import math\n",
    "import requests\n",
    "from datetime import datetime, timezone\n",
    "from tqdm import tqdm"
   ]
  },
  {
   "cell_type": "code",
   "execution_count": 2,
   "id": "a3127256",
   "metadata": {},
   "outputs": [],
   "source": [
    "OUTPUT_PATH = \"../data/wiki_content.jsonl\" \n",
    "CUTOFF_DATE = \"2023-11-01T00:00:00Z\"              \n",
    "TARGET_ARTICLES = 1165                             \n",
    "MIN_WORDS = 100                                    \n",
    "REQUESTS_PER_SECOND = 2.0                          \n",
    "API_ENDPOINT = \"https://en.wikipedia.org/w/api.php\"\n",
    "SLEEP_BETWEEN = 1.0 / REQUESTS_PER_SECOND"
   ]
  },
  {
   "cell_type": "code",
   "execution_count": 3,
   "id": "28fae297",
   "metadata": {},
   "outputs": [],
   "source": [
    "session = requests.Session()\n",
    "session.headers.update({\"User-Agent\": \"RAG-Replication/1.0 (research use)\"})\n",
    "\n",
    "def api_get(params, retries=3, backoff=1.5):\n",
    "    for attempt in range(retries):\n",
    "        r = session.get(API_ENDPOINT, params=params, timeout=30)\n",
    "        if r.status_code == 200:\n",
    "            return r.json()\n",
    "        time.sleep(backoff ** attempt)\n",
    "    r.raise_for_status()\n",
    "\n",
    "def iter_recent_new_pages(rcstart_iso=None, rcend_iso=CUTOFF_DATE, batch_limit=500):\n",
    "    \"\"\"\n",
    "    Iterate 'new' page creations (namespace=0) from rcstart (now if None) going older until rcend.\n",
    "    Yields dicts with 'title', 'pageid', 'timestamp'.\n",
    "    \"\"\"\n",
    "    # Start from 'now' if not provided\n",
    "    if rcstart_iso is None:\n",
    "        rcstart_iso = datetime.now(timezone.utc).strftime(\"%Y-%m-%dT%H:%M:%SZ\")\n",
    "\n",
    "    params = {\n",
    "        \"action\": \"query\",\n",
    "        \"list\": \"recentchanges\",\n",
    "        \"rcprop\": \"title|timestamp|ids\",\n",
    "        \"rctype\": \"new\",\n",
    "        \"rcnamespace\": 0,           # articles only\n",
    "        \"rcdir\": \"older\",           # from rcstart -> older -> rcend\n",
    "        \"rcstart\": rcstart_iso,\n",
    "        \"rcend\": rcend_iso,\n",
    "        \"rclimit\": batch_limit,\n",
    "        \"format\": \"json\",\n",
    "    }\n",
    "\n",
    "    cont = {}\n",
    "    while True:\n",
    "        q = params.copy()\n",
    "        q.update(cont)\n",
    "        data = api_get(q)\n",
    "        changes = data.get(\"query\", {}).get(\"recentchanges\", [])\n",
    "        if not changes:\n",
    "            break\n",
    "        for rc in changes:\n",
    "            yield {\"title\": rc[\"title\"], \"pageid\": rc.get(\"pageid\"), \"timestamp\": rc[\"timestamp\"]}\n",
    "        cont = data.get(\"continue\", {})\n",
    "        if not cont:\n",
    "            break\n",
    "        time.sleep(SLEEP_BETWEEN)\n",
    "\n",
    "def fetch_plaintext_by_title(title):\n",
    "    \"\"\"\n",
    "    Fetch plaintext extract for a given title. Returns '' if missing.\n",
    "    Uses extracts API (plaintext).\n",
    "    \"\"\"\n",
    "    params = {\n",
    "        \"action\": \"query\",\n",
    "        \"prop\": \"extracts\",\n",
    "        \"explaintext\": 1,\n",
    "        \"redirects\": 1,\n",
    "        \"titles\": title,\n",
    "        \"format\": \"json\",\n",
    "    }\n",
    "    data = api_get(params)\n",
    "    pages = data.get(\"query\", {}).get(\"pages\", {})\n",
    "    for _, page in pages.items():\n",
    "        # skip missing pages\n",
    "        if \"missing\" in page:\n",
    "            return \"\"\n",
    "        return page.get(\"extract\", \"\") or \"\"\n",
    "    return \"\"\n"
   ]
  },
  {
   "cell_type": "code",
   "execution_count": 4,
   "id": "acce688b",
   "metadata": {},
   "outputs": [
    {
     "name": "stdout",
     "output_type": "stream",
     "text": [
      "Resume status → found 0 articles already (0 words).\n"
     ]
    }
   ],
   "source": [
    "os.makedirs(os.path.dirname(OUTPUT_PATH), exist_ok=True)\n",
    "\n",
    "seen_titles = set()\n",
    "total_words = 0\n",
    "written = 0\n",
    "\n",
    "# Resume: if file exists, load titles & recompute stats\n",
    "if os.path.exists(OUTPUT_PATH):\n",
    "    with open(OUTPUT_PATH, \"r\", encoding=\"utf-8\") as f:\n",
    "        for line in f:\n",
    "            obj = json.loads(line)\n",
    "            t = obj[\"title\"]\n",
    "            seen_titles.add(t)\n",
    "            total_words += len(obj[\"text\"].split())\n",
    "            written += 1\n",
    "\n",
    "print(f\"Resume status → found {written} articles already ({total_words:,} words).\")"
   ]
  },
  {
   "cell_type": "code",
   "execution_count": 5,
   "id": "0408de9a",
   "metadata": {},
   "outputs": [
    {
     "name": "stdout",
     "output_type": "stream",
     "text": [
      "Need to add 1165 more articles…\n"
     ]
    },
    {
     "name": "stderr",
     "output_type": "stream",
     "text": [
      "Collected 50 articles | 113,358 words:   4%|▍         | 50/1165 [00:38<11:27,  1.62art/s]"
     ]
    },
    {
     "name": "stdout",
     "output_type": "stream",
     "text": [
      "Progress: 50 articles, 113,358 total words\n"
     ]
    },
    {
     "name": "stderr",
     "output_type": "stream",
     "text": [
      "Collected 100 articles | 155,553 words:   9%|▊         | 100/1165 [01:27<15:00,  1.18art/s]"
     ]
    },
    {
     "name": "stdout",
     "output_type": "stream",
     "text": [
      "Progress: 100 articles, 155,553 total words\n"
     ]
    },
    {
     "name": "stderr",
     "output_type": "stream",
     "text": [
      "Collected 150 articles | 192,300 words:  13%|█▎        | 150/1165 [02:02<13:12,  1.28art/s]"
     ]
    },
    {
     "name": "stdout",
     "output_type": "stream",
     "text": [
      "Progress: 150 articles, 192,300 total words\n"
     ]
    },
    {
     "name": "stderr",
     "output_type": "stream",
     "text": [
      "Collected 200 articles | 231,679 words:  17%|█▋        | 200/1165 [02:48<10:52,  1.48art/s]"
     ]
    },
    {
     "name": "stdout",
     "output_type": "stream",
     "text": [
      "Progress: 200 articles, 231,679 total words\n"
     ]
    },
    {
     "name": "stderr",
     "output_type": "stream",
     "text": [
      "Collected 250 articles | 294,600 words:  21%|██▏       | 250/1165 [03:25<11:27,  1.33art/s]"
     ]
    },
    {
     "name": "stdout",
     "output_type": "stream",
     "text": [
      "Progress: 250 articles, 294,600 total words\n"
     ]
    },
    {
     "name": "stderr",
     "output_type": "stream",
     "text": [
      "Collected 300 articles | 349,516 words:  26%|██▌       | 300/1165 [04:03<12:52,  1.12art/s]"
     ]
    },
    {
     "name": "stdout",
     "output_type": "stream",
     "text": [
      "Progress: 300 articles, 349,516 total words\n"
     ]
    },
    {
     "name": "stderr",
     "output_type": "stream",
     "text": [
      "Collected 350 articles | 404,236 words:  30%|███       | 350/1165 [04:37<09:00,  1.51art/s]"
     ]
    },
    {
     "name": "stdout",
     "output_type": "stream",
     "text": [
      "Progress: 350 articles, 404,236 total words\n"
     ]
    },
    {
     "name": "stderr",
     "output_type": "stream",
     "text": [
      "Collected 400 articles | 453,952 words:  34%|███▍      | 400/1165 [05:17<10:06,  1.26art/s]"
     ]
    },
    {
     "name": "stdout",
     "output_type": "stream",
     "text": [
      "Progress: 400 articles, 453,952 total words\n"
     ]
    },
    {
     "name": "stderr",
     "output_type": "stream",
     "text": [
      "Collected 450 articles | 504,393 words:  39%|███▊      | 450/1165 [05:56<07:35,  1.57art/s]"
     ]
    },
    {
     "name": "stdout",
     "output_type": "stream",
     "text": [
      "Progress: 450 articles, 504,393 total words\n"
     ]
    },
    {
     "name": "stderr",
     "output_type": "stream",
     "text": [
      "Collected 500 articles | 590,986 words:  43%|████▎     | 500/1165 [06:35<06:56,  1.60art/s]"
     ]
    },
    {
     "name": "stdout",
     "output_type": "stream",
     "text": [
      "Progress: 500 articles, 590,986 total words\n"
     ]
    },
    {
     "name": "stderr",
     "output_type": "stream",
     "text": [
      "Collected 550 articles | 683,431 words:  47%|████▋     | 550/1165 [07:08<07:21,  1.39art/s]"
     ]
    },
    {
     "name": "stdout",
     "output_type": "stream",
     "text": [
      "Progress: 550 articles, 683,431 total words\n"
     ]
    },
    {
     "name": "stderr",
     "output_type": "stream",
     "text": [
      "Collected 600 articles | 784,421 words:  52%|█████▏    | 600/1165 [07:50<08:46,  1.07art/s]"
     ]
    },
    {
     "name": "stdout",
     "output_type": "stream",
     "text": [
      "Progress: 600 articles, 784,421 total words\n"
     ]
    },
    {
     "name": "stderr",
     "output_type": "stream",
     "text": [
      "Collected 650 articles | 864,833 words:  56%|█████▌    | 650/1165 [08:29<05:28,  1.57art/s]"
     ]
    },
    {
     "name": "stdout",
     "output_type": "stream",
     "text": [
      "Progress: 650 articles, 864,833 total words\n"
     ]
    },
    {
     "name": "stderr",
     "output_type": "stream",
     "text": [
      "Collected 700 articles | 928,868 words:  60%|██████    | 700/1165 [09:13<08:08,  1.05s/art]"
     ]
    },
    {
     "name": "stdout",
     "output_type": "stream",
     "text": [
      "Progress: 700 articles, 928,868 total words\n"
     ]
    },
    {
     "name": "stderr",
     "output_type": "stream",
     "text": [
      "Collected 750 articles | 996,357 words:  64%|██████▍   | 750/1165 [09:52<09:22,  1.36s/art]"
     ]
    },
    {
     "name": "stdout",
     "output_type": "stream",
     "text": [
      "Progress: 750 articles, 996,357 total words\n"
     ]
    },
    {
     "name": "stderr",
     "output_type": "stream",
     "text": [
      "Collected 800 articles | 1,114,396 words:  69%|██████▊   | 800/1165 [10:44<03:30,  1.74art/s]"
     ]
    },
    {
     "name": "stdout",
     "output_type": "stream",
     "text": [
      "Progress: 800 articles, 1,114,396 total words\n"
     ]
    },
    {
     "name": "stderr",
     "output_type": "stream",
     "text": [
      "Collected 850 articles | 1,171,858 words:  73%|███████▎  | 850/1165 [11:18<03:13,  1.63art/s]"
     ]
    },
    {
     "name": "stdout",
     "output_type": "stream",
     "text": [
      "Progress: 850 articles, 1,171,858 total words\n"
     ]
    },
    {
     "name": "stderr",
     "output_type": "stream",
     "text": [
      "Collected 900 articles | 1,218,694 words:  77%|███████▋  | 900/1165 [12:01<03:50,  1.15art/s]"
     ]
    },
    {
     "name": "stdout",
     "output_type": "stream",
     "text": [
      "Progress: 900 articles, 1,218,694 total words\n"
     ]
    },
    {
     "name": "stderr",
     "output_type": "stream",
     "text": [
      "Collected 950 articles | 1,278,273 words:  82%|████████▏ | 950/1165 [12:53<03:24,  1.05art/s]"
     ]
    },
    {
     "name": "stdout",
     "output_type": "stream",
     "text": [
      "Progress: 950 articles, 1,278,273 total words\n"
     ]
    },
    {
     "name": "stderr",
     "output_type": "stream",
     "text": [
      "Collected 1000 articles | 1,365,206 words:  86%|████████▌ | 1000/1165 [13:28<01:37,  1.70art/s]"
     ]
    },
    {
     "name": "stdout",
     "output_type": "stream",
     "text": [
      "Progress: 1000 articles, 1,365,206 total words\n"
     ]
    },
    {
     "name": "stderr",
     "output_type": "stream",
     "text": [
      "Collected 1050 articles | 1,445,861 words:  90%|█████████ | 1050/1165 [14:04<01:10,  1.64art/s]"
     ]
    },
    {
     "name": "stdout",
     "output_type": "stream",
     "text": [
      "Progress: 1050 articles, 1,445,861 total words\n"
     ]
    },
    {
     "name": "stderr",
     "output_type": "stream",
     "text": [
      "Collected 1100 articles | 1,558,005 words:  94%|█████████▍| 1100/1165 [14:39<00:58,  1.11art/s]"
     ]
    },
    {
     "name": "stdout",
     "output_type": "stream",
     "text": [
      "Progress: 1100 articles, 1,558,005 total words\n"
     ]
    },
    {
     "name": "stderr",
     "output_type": "stream",
     "text": [
      "Collected 1150 articles | 1,606,880 words:  99%|█████████▊| 1150/1165 [15:14<00:08,  1.71art/s]"
     ]
    },
    {
     "name": "stdout",
     "output_type": "stream",
     "text": [
      "Progress: 1150 articles, 1,606,880 total words\n"
     ]
    },
    {
     "name": "stderr",
     "output_type": "stream",
     "text": [
      "Collected 1165 articles | 1,612,106 words: 100%|██████████| 1165/1165 [15:25<00:00,  1.26art/s]"
     ]
    },
    {
     "name": "stdout",
     "output_type": "stream",
     "text": [
      "\n",
      "Final totals → Articles: 1165, Words: 1,612,106\n"
     ]
    },
    {
     "name": "stderr",
     "output_type": "stream",
     "text": [
      "\n"
     ]
    }
   ],
   "source": [
    "# Cell 4: Main crawl loop — from most recent → older until we hit TARGET_ARTICLES\n",
    "to_write = TARGET_ARTICLES - written\n",
    "if to_write <= 0:\n",
    "    print(\"Target already reached; nothing to do.\")\n",
    "else:\n",
    "    print(f\"Need to add {to_write} more articles…\")\n",
    "\n",
    "    # Start from 'now' going older to CUTOFF_DATE\n",
    "    start_from = datetime.now(timezone.utc).strftime(\"%Y-%m-%dT%H:%M:%SZ\")\n",
    "\n",
    "    with open(OUTPUT_PATH, \"a\", encoding=\"utf-8\") as fout:\n",
    "        pbar = tqdm(total=to_write, desc=f\"Collecting articles | {total_words:,} words\", unit=\"art\")\n",
    "        for rc in iter_recent_new_pages(rcstart_iso=start_from, rcend_iso=CUTOFF_DATE, batch_limit=500):\n",
    "            title = rc[\"title\"]\n",
    "            if title in seen_titles:\n",
    "                continue\n",
    "\n",
    "            # Fetch article text\n",
    "            txt = fetch_plaintext_by_title(title)\n",
    "            time.sleep(SLEEP_BETWEEN)\n",
    "\n",
    "            if not txt:\n",
    "                continue\n",
    "\n",
    "            # Filter out short articles (< MIN_WORDS)\n",
    "            words = txt.split()\n",
    "            if len(words) < MIN_WORDS:\n",
    "                continue\n",
    "\n",
    "            # Write JSONL line\n",
    "            rec = {\"title\": title, \"text\": txt}\n",
    "            fout.write(json.dumps(rec, ensure_ascii=False) + \"\\n\")\n",
    "            fout.flush()\n",
    "\n",
    "            # Update counters\n",
    "            seen_titles.add(title)\n",
    "            written += 1\n",
    "            total_words += len(words)\n",
    "            pbar.update(1)\n",
    "\n",
    "            # Update tqdm description dynamically\n",
    "            pbar.set_description(f\"Collected {written} articles | {total_words:,} words\")\n",
    "\n",
    "            # Print occasional summaries (every 50 articles)\n",
    "            if written % 50 == 0:\n",
    "                print(f\"Progress: {written} articles, {total_words:,} total words\")\n",
    "\n",
    "            # Stop when target reached\n",
    "            if written >= TARGET_ARTICLES:\n",
    "                pbar.close()\n",
    "                break\n",
    "\n",
    "        if written < TARGET_ARTICLES:\n",
    "            print(\"\\nReached the cutoff without hitting the target count. \"\n",
    "                  \"You can relax the cutoff, or continue from an earlier start time (older history).\")\n",
    "\n",
    "print(f\"\\nFinal totals → Articles: {written}, Words: {total_words:,}\")"
   ]
  },
  {
   "cell_type": "code",
   "execution_count": 7,
   "id": "4ea6ac9e",
   "metadata": {},
   "outputs": [
    {
     "name": "stdout",
     "output_type": "stream",
     "text": [
      "Saved to: ../data/wiki_content.jsonl\n",
      "Total articles: 1165\n",
      "Total words: 1,612,106\n"
     ]
    },
    {
     "data": {
      "text/plain": [
       "[{'title': 'Their Bats Have Been Broken',\n",
       "  'text': 'On 13 November 1990, Deputy Prime Minister of the United Kingdom Geoffrey Howe delivered his resignation speech in the House of Commons after resigning on 1 November. While Howe initially worded carefully his resignation letter and criticism of the Prime Minister\\'s overall handling of United Kingdom relations with the European Community, 10 Downing Street claimed that his disagreement with Thatcher on Europe were differences only in style, rather than substance. Said attempts were largely successful and Howe decided to send a powerful message of dissent.\\nIn his speech, he attacked Thatcher for running increasingly serious risks for the country\\'s future and criticised her for undermining the policies on EMU proposed by her chancellor and governor of the Bank of England. Although Howe\\'s intention was only to constrain any shift in European policy by the Cabinet under the existing prime minister, his speech is widely seen as the key catalyst for the leadership challenge mounted by Michael Heseltine a few days later. Although Thatcher won the most votes in the leadership election, she did not win by a large enough margin to win outright. Subsequently, she withdrew from the contest on 22 November, and five days later John Major was elected party leader, becoming prime minister.\\n\\n\\n== Background ==\\nOn 30 October 1990, Margaret Thatcher spoke out firmly in the House of Commons against the vision of European integration, including a single currency, espoused by the European Commission under Jacques Delors at the recent Rome Summit, characterising it as the path to a federal Europe and declaring that her response to such a vision would be \"No! No! No!\". This led to the resignation of Howe as deputy prime minister on 1 November. However, Howe did not make his resignation speech immediately, because he had temporarily lost his voice. Sometimes mocked as \"Mogadon man\" – Mogadon being a well-known sleeping medication – His dispute with Thatcher was over matters of substance more than ones of style; he advocated a move back towards a more centrist position on constitutional and administrative issues, such as taxation and European integration. Howe represented a moderate position in the party, being educated, lawyerly, and diligent; while direct, he was conciliatory and collegial in style. In his resignation letter, Howe cautiously worded his criticisism of the Prime Minister\\'s overall handling of United Kingdom relations with the European Community.\\nMichael Heseltine, a moderate and pro-EU former minister, had resigned from the Cabinet over the Westland affair in January 1986 and had been conducting himself as a sort of intra-party opposition leader, critical of Thatcher\\'s leadership, ever since. He now wrote a six-page public letter to his local Association chairman, calling for more regard for the wide range of opinions in the party before leaving for a trip to the Middle East. His Association officers sent him a 97-word reply on 5 November saying that they supported Thatcher\\'s leadership. The party\\'s regional agent had been present at their meeting, although they insisted he had not interfered with their reply. At about the same time, Thatcher\\'s press secretary Bernard Ingham briefed journalists that Heseltine had \"lit the blue touch paper then retired\", although he denied having demanded that Heseltine \"put up (that is, challenge Thatcher for the leadership) or shut up\"; Heseltine was also taunted along similar lines by right-wing press, including the Daily Mail and The Times. Thatcher brought the annual leadership election forward by a fortnight.\\n\\nAt the Lord Mayor\\'s Banquet on 12 November, Thatcher dismissed Howe\\'s resignation by employing a cricketing metaphor:I am still at the crease, though the bowling has been pretty hostile of late. And in case anyone doubted it, can I assure you there will be no ducking the bouncers, no stonewalling, no playing for time. The bowling\\'s going to get hit all round the ground. That is my style.\\n\\n\\n== Speech ==\\nAfter largely successful attempts by 10 Downing Street to claim that there were differences only in style, rather than substance, in Howe\\'s disagreement with Thatcher on Europe, Howe chose to send a powerful message of dissent, making his resignation speech in the House Commons the following day on 13 November. In his speech, he attacked Thatcher for running increasingly serious risks for the country\\'s future and criticised her for undermining the policies on EMU proposed by her chancellor and governor of the Bank of England. Howe responded to her recent cricketing metaphor by employing one wrote by his wife Elspeth, an avid cricket fan herself, after watching Thatcher on the news the night before. Explaining how, in his opinion, her approach made it hard for British ministers to negotiate for Britain\\'s interests in Europe, he declared:It is rather like sending your opening batsmen to the crease only for them to find, the moment the first balls are bowled, that their bats have been broken before the game by the team captain.He ended his speech with an appeal to cabinet colleagues: \"The time has come for others to consider their own response to the tragic conflict of loyalties, with which I have myself wrestled for perhaps too long.\" \\n\\n\\n== Impact ==\\nHowe\\'s dramatic speech received cheers from the opposition benches and reinforced the change in general perception of Thatcher from the \"Iron Lady\" to a divisive and confrontational figure. The next morning, 14 November, Heseltine reappeared to announce that he would challenge her for the leadership of the party.\\nAlthough Howe subsequently wrote in his memoir Conflict of Loyalty that his intention was only to constrain any shift in European policy by the Cabinet under the existing prime minister, his speech is widely seen as the key catalyst for the leadership challenge mounted by Michael Heseltine a few days later. Although Thatcher won the most votes in the leadership election, she did not win by a large enough margin to win outright. Subsequently, she withdrew from the contest on 22 November. Five days later, Chancellor of the Exchequer John Major was elected party leader and thus became prime minister. The change proved to be a positive one for the Tories, who had trailed Labour in most opinion polls by a double-digit margin throughout 1990 but soon returned to the top of the polls and won the general election in April 1992.\\n\\n\\n== In popular media ==\\nHowe\\'s dramatic resignation speech in the House of Commons formed the basis of Jonathan Maitland\\'s 2015 play Dead Sheep, and it was enacted by Paul Jesson in season four of the 2020 Netflix series The Crown. \\n\\n\\n== See also ==\\nNo. No. No. (Margaret Thatcher)\\n\\n\\n== References ==\\n\\n\\n=== Works cited ===\\nCrick, Michael (1997). Michael Heseltine: A Biography (1st ed.). London: Hamish Hamilton. ISBN 0-241-13691-1.\\n\\n\\n== External links ==\\n\"Personal Statement (Hansard, 13 November 1990)\". United Kingdom Parliament.'},\n",
       " {'title': 'IQ3 100MP',\n",
       "  'text': 'Phase One A/S is a Danish company specializing in high-end digital photography equipment and software. It manufactures open platform based medium format camera systems and solutions. Its RAW processing software, Capture One, supports many DSLRs besides their backs.\\nPODAS workshops (Phase One Digital Artist Series) is a series of worldwide photography workshops designed for digital photographers interested in working with medium format, high-resolution cameras. PODAS is a part of the Phase One educational division. Each attendee receives a Phase One digital camera system for the duration of the workshop.\\nOn 18 February 2014, it was announced that UK-based private equity firm Silverfleet Capital would acquire a 60% majority stake in the company.\\nOn 17 June 2019, Phase One A/S was once again sold, this time to the Danish investment company Axcel.\\n\\n\\n== Products ==\\n\\n\\n=== Cameras ===\\nIn 2009, Phase One purchased a major stake in Japanese Mamiya and the two companies developed products together. The following cameras are currently produced and sold by Phase One:\\n\\nPhase One XC\\nPhase One XT\\nPhase One XF\\nPhase One 645DF+ (discontinued)\\nPhase One 645DF (discontinued)\\nPhase One 645AF (discontinued)\\nPhase One iXM (aerial, surveillance and UAV operations)\\nPhase One iXA (Aerial)\\nPhase One iXG (Reproduction)\\nPhase One iXR (Reproduction)\\nPhase One iXU (aerial, surveillance and UAV operations)\\nPhase One iXU-RS (aerial, surveillance and UAV operations)\\nPhase One iXU-RS1900 (Fully self contained dual camera solution)\\nPhase One iXM\\nPhase One iXM-RS\\nPhase One iXM-MV (Machine Vision)\\nPhase One iXH (Reproduction)\\nPhase One iXM-SP (Made for Low Earth Orbit)\\nThe Phase One 645DF+ and 645DF cameras are medium format cameras which support both focal plane and leaf shutter lenses with shutter speeds ranging from 1/4000s to 60 minutes and flash synchronization up to 1/1600 sec. Among the new features on the 645DF+ are:\\n\\nFast and accurate auto focus especially in low contrast environments\\nCustom focus fine-tuning adjustment\\nRechargeable Li-ion battery with up to 10,000 captures on one charge\\nRugged construction for high volume production use\\nThe Phase One V-Grip Air vertical grip is compatible with the 645DF+/645DF. The V-Grip Air supports a Profoto Air flash trigger for wireless flash synchronization.\\nThe 645DF+/645DF supports digital back interfaces including the IQ and P+ series digital backs as well as 3rd party digital backs from Hasselblad, Leaf and others.\\nIn 2012, Phase One released two specialty cameras: iXR which is made specifically for reproduction and iXA which is made specifically for aerial photography. Both uses the 645 lenses as the normal 645 cameras. Main difference on this camera is they have no viewfinder and very few mechanical moving parts.\\nIn 2013, Phase One signed a collaborative distribution agreement with Digital Transitions (DT) to deliver advanced digitization solutions for cultural heritage preservation imaging projects worldwide (Repro camera solutions). The range of Digital Transitions digitization equipment includes a multitude of reprographic benches, purpose-built reprographic cameras, specialized book copy stations, film scanning kits, and accessories that are designed to host the line of Phase One digital capture hardware and Capture One software.\\nIn 2014, Phase One launched a medium format digital back with a CMOS/active pixel sensor: The IQ250. All Phase One digital backs launched prior to the IQ250 have sensors based on the CCD (Charge-coupled device) technology.\\nIn 2015, Phase One introduced the XF camera system. It is a new digital camera platform, medium format system built with the intention to upgrade it over a series of updates throughout the product lifetime. At the same time, the IQ3 series digital backs were introduced. This included the IQ3 50MP based on the previous IQ250, the IQ3 60MP based on the previous IQ260 and the newly introduced IQ3 80MP which includes a new CCD (Charge-coupled device) sensor exclusive to Phase One.\\n\\n\\n=== Lenses ===\\nThe 645DF / DF+ / XF is compatible with the following lenses:\\n\\nPhase One Digital focal plane lenses\\nSchneider Kreuznach leaf shutter lenses\\nMamiya 645 AF lenses\\nMamiya 645 manual lenses (mechanical lens modification is required for the Phase One XF)\\nCompatible with Hasselblad V and Pentacon 6 (via multimount adaptor)\\n\\n\\n==== Phase One ====\\n\\n\\n==== Schneider Kreuznach ====\\n\\n\\n==== Rodenstock ====\\nPhase One XT compatible lenses\\n\\n*In addition, any medium or large format lens which has sufficient image circle and resolution with the Cambo lens mount\\n\\n\\n=== Industrial lenses ===\\nRS Lenses compatible with iXM-RS\\n\\nRSM lenses compatible with iXM\\n\\nLenses for iXM-MV\\nNOTE: iXM-MV is also compatible with Schneider-Kreuznach medium format lenses\\n\\n\\n=== Digital backs ===\\n\\n\\n==== IQ4 series ====\\n\\n\\n==== IQ3 series ====\\n\\n\\n==== IQ2 series ====\\n\\n\\n==== IQ1 series ====\\n\\nThe IQ series Phase One backs included many industry-first innovations. It was the first camera series to utilize a USB 3 connection. At the time of the release, this was not very widespread, but did allow for backwards compatibility with USB 2.0. It was also the first camera series to include a high resolution multi-touch display, similar to the \"Retina\" screen used in the iPhone 4.\\n\\n\\n==== P+ series ====\\nThe P+ series are similar to the normal P series but have higher capture speeds, better response to long exposure times, and add Live Preview, which allows the user to focus and compose on a monitor while tethered. Also, a new high resolution LCD screen was implemented with better resolution and luminance.\\n\\n\\n==== P series ====\\nThe P series are fully untethered backs available for many different camera mounts.\\n\\n\\n==== H series ====\\nThe H series are tethered backs available for many different camera mounts. Camera back connects through standard 6pin IEEE 1394. Originally this type of camera back was released as the \"Lightphase\", a continuation of Phase One\\'s previous tradition of using the name \"phase\" in the name of the product. This changed with the release of the \"H20\", which was originally called \"Lightphase H20\" but the name was changed to \"Phase One H20\" for better brand recognition.\\n\\n\\n==== Scan backs ====\\nThe Scan backs are tethered digital scan backs. All use SCSI connection except for PowerPhase FX, which uses IEEE 1394 \"Firewire\". The very early models, which were known as the CB6x (StudioKit) and FC70 (PhotoPhase), were made in plastic and had an external control unit that connected to a computer through NuBus.\\n\\n\\n=== XF Camera System feature updates ===\\nThe XF Camera System is upgradable and received various planned new features and functionality over its product lifetime.\\n\\nFeature Update #1 - October 2015\\nVibration Delay, Bullseye Level Tool, Hyperfocal Point Tool, Capture One Focus Step\\nFeature Update #2 - March 2016\\nFocus Stacking Tool, Timelapse Tool, HAP-1 Update, OneTouch UI\\nFeature Update #3 - October 2016\\nProfoto Air Tool, Electronic Shutter, Flash Analysis, Icon Control\\nFeature Update #4 - September 2017\\nAutofocus & Recompose, Automatic Focus Stack Calculator, Focus Trim Tool, Vibration Analysis\\nCreative Control Enhancement (Feature Update #5) - July 2019\\nAutomated Frame Averaging, Custom IQ Styles, Storage Flexibility Options (IQ4 Only)\\nXT Update Package (Feature Update #6) - October 2019\\nUpdate to support the new XT body and lenses (IQ4 Only)\\nPhase One Lab update (Feature Update #7) - March 2020\\nSupport for new Dual Exposure+ (IQ4-150 Only)\\nFeature Update #8 - December 2020\\nSupport for CFExpress, higher capture rate on XF body, ETTR option, Ad-Hoc WiFi.\\n\\n\\n=== Repro camera solutions ===\\nPhase One reprographic camera systems and book capture / scanners are purpose-built to provide preservation-level rapid capture of rare books, circulation materials, manuscripts, documents, photographic slides, photographic negatives and photographic glass-plates.\\nPhase One repro camera solutions include the following products:\\n\\n\\n==== iXG / iXH series ====\\n\\nPhase One IXR camera body (Uses an option of different camera backs)\\nThe above camera systems are purpose built for the following solutions but compatible with standard Reproduction systems.\\n\\nRG3040 reprographic system\\nRGC180 capture cradle\\nBC100 Book capture system\\nFilm scanning kit\\n\\n\\n=== Industrial Cameras ===\\n\\n\\n==== iXM-RS series ====\\n\\n\\n==== iXM series ====\\n\\n\\n==== iXU-RS series ====\\n\\n\\n==== iXU series ====\\n\\n\\n==== iXA series ====\\n\\n\\n=== Imaging software ===\\nThe Capture One software comes in several flavours but is still a single binary. License key and option selected determine which version is active:\\n\\nPRO, this is the full features version which supports all cameras which Capture One lists as supported.\\nPRO for Sony, full featured but only supports Sony branded cameras.\\nPRO for Fuji, full featured but only supports Fuji branded cameras.\\nPRO for Nikon, full featured but only supports Nikon branded cameras.\\nEnterprise, this is the full features version which supports all cameras which Capture One lists as supported but has also additional feature for Enterprise license management and specialised features such as barcode reading.\\nCH, specialised version for cultural heritage, has some features which PRO does not, like resolution ruler, auto-crop etc., support only Phase One IIQ RAW files.\\nDB, also called \"Capture One for Phase One\" free version, full featured like PRO but works only with Phase One IIQ RAW files.\\nExpress for Sony limited featured version, works only with Sony branded camera.\\nExpress for Fuji limited featured version, works only with Fuji branded camera.\\nExpress for Nikon limited featured version, works only with Nikon branded camera.\\nCapture One – Various editions of the software have been available: Capture One, Capture One PRO, Capture One DB, Capture One CH, Capture One Express, Capture One SE, Capture One LE, and Capture One REBEL.\\nLightphase Capture 2.x (discontinued, changed name to \"Capture One\" from version 2.7)\\nCapture One companion software:\\n\\nCapture Pilot (available on the Apple App Store)\\nCapture One for iPad (available on the Apple App Store)\\n\\n\\n=== DAM software (discontinued) ===\\nMedia Pro SE\\nMedia Pro 1  (formerly known as Microsoft Expression Media and iView MediaPro)\\n\\n\\n=== Studio management software ===\\nPortrait One (discontinued)\\nPortrait One Executive\\nPortrait One Lite\\nPortrait One Sales\\n\\n\\n== Product releases (in chronological order) ==\\nCB6x and FC70 - 1993\\nPhotoPhase (+) - 1995/1996\\nStudioKit - 1996\\nPowerPhase - 1997\\nLightPhase (BB00) - 1998 (Gen 1. Hasselblad V mount)\\nLightPhase (BB01) - 1998/1999 (Gen 2. Hasselblad V mount)\\nLightPhase (BB02) - 1999 (Gen 3. Hasselblad V mount)\\nLightPhase (Mamiya and Contax 645 versions and BB03) - 1999\\nPowerPhase FX - 2000\\nH20 - 2001\\nPowerPhase FX+ - 2002\\nH5 and H10 6 MP (re-branded Lightphase) - 2002\\nH10 (11 MP) - 2002\\nH101 (H10 11 MP, Hasselblad H1 design) - 2002\\nH25 - 2003\\nP20 and P25 - 2004\\nP21, P30, and P45 - 2005\\nP20+, P21+, P25+, P30+, and P45+ - 2007\\nPhase One 645AF - 2008\\nP65+ - 2008\\nPhase One 645DF - 2009\\nP40+ - 2009\\nIQ180, IQ160, IQ140 - 2011\\nPhase One iXR and Phase One iXA - 2012\\nPhase One 645DF+ - 2012\\nIQ280, IQ260, IQ260 achromatic - 2013\\nIQ250 - 2014\\nPhase One iXU - 2014\\nIQ150 - 2014\\nPhase One XF May 2015 (645 camera body)\\nIQ3 50MP, IQ3 60MP, IQ3 80MP - May 2015\\nIQ3 100MP - January 2016\\nIQ3 100MP Achromatic - April 2017\\nPhase One iXG - August 2017\\nIQ3 100MP Trichromatic - September 2017\\nPhase One iXM - April 2018\\nIQ4 150, IQ4 150 Achromatic, IQ4 100 Trichromatic - August 2018\\nPhase One iXM-RS150F August 2018\\nPhase One iXM-MV - February 2019\\nPhase One XT - September 2019\\nPhase One iXH - April 2020\\nPhase One iXM-RS 280F - April 2020\\nPhase One PAS880 / 880i - December 2020\\nPhase One P3 Drone Payload - April 2021\\nPhase One iXM-GS 120 - January 2022\\nPhase One PAS280 / 280i - February 2022\\nPhase One iXM-SP - May 2023\\nPhase One XC - June 2023\\nPhase One P5 - November 2023\\n\\n\\n== References ==\\n\\nReviews\\npdnonline.com: 2011 Photo Gear of the Year\\nnews.cnet.com: Phase One IQ180: 80 megapixels of lavish color\\ndxomark.com: Phase One IQ 180: the new king of all sensors\\nwired.com: What Would You Do With 80 Million Pixels? (IQ180)\\nPhase One material\\nList of serial number prefix to identify model of camera back\\nOfficial Press release announcing Phase One becoming major shareholder in Mamiya Digital Imaging\\nOfficial Press release announcing Phase One starting the new subsidiary \"Leaf Imaging\"\\nOfficial Press release announcing Phase One cooperation with Schneider Kreuznach to develop lenses'},\n",
       " {'title': 'Workbook (file)',\n",
       "  'text': 'A spreadsheet is a computer application for computation, organization, analysis and storage of data in tabular form. Spreadsheets were developed as computerized analogs of paper accounting worksheets. The program operates on data entered in cells of a table. Each cell may contain either numeric or text data, or the results of formulas that automatically calculate and display a value based on the contents of other cells. The term spreadsheet may also refer to one such electronic document.\\nIn modern spreadsheet applications, several spreadsheets, often known as \"worksheets\" or simply \"sheets\", are gathered together to form a \"workbook\". A workbook is physically represented by a file containing all the data for the book, the sheets, and the cells with the sheets. Worksheets are normally represented by tabs that flip between pages, each one containing one of the sheets, although Numbers changes this model significantly. Cells in a multi-sheet book add the sheet name to their reference, for instance, \"Sheet 1!C10\". Some systems extend this syntax to allow cell references to different workbooks.\\nSpreadsheet users can adjust any stored value and observe the effects on calculated values. This makes the spreadsheet useful for \"what-if\" analysis since many cases can be rapidly investigated without manual recalculation. Modern spreadsheet software can have multiple interacting sheets and can display data either as text and numerals or in graphical form.\\nBesides performing basic arithmetic and mathematical functions, modern spreadsheets provide built-in functions for common financial accountancy and statistical operations. Such calculations as net present value, standard deviation, or regression analysis can be applied to tabular data with a pre-programmed function in a formula. Spreadsheet programs also provide conditional expressions, functions to convert between text and numbers, and functions that operate on strings of text.\\nSpreadsheets have replaced paper-based systems throughout the business world. Although they were first developed for accounting or bookkeeping tasks, they now are used extensively in any context where tabular lists are built, sorted, and shared.\\n\\n\\n== Basics ==\\n\\nLANPAR, available in 1969, was the first electronic spreadsheet on mainframe and time sharing computers. LANPAR was an acronym: LANguage for Programming Arrays at Random. VisiCalc (1979) was the first electronic spreadsheet on a microcomputer, and it helped turn the Apple II into a popular and widely used personal computer. Lotus 1-2-3 was the leading spreadsheet when DOS was the dominant operating system. Microsoft Excel now has the largest market share on the Windows and Macintosh platforms. A spreadsheet program is a standard feature of an office productivity suite. In 2006 Google launched a beta release spreadsheet  web application, this is currently known as Google Sheets and one of the applications provided in Google Drive.\\nA spreadsheet consists of a table of cells arranged into rows and columns and referred to by the X and Y locations. X locations, the columns, are normally represented by letters, \"A,\" \"B,\" \"C,\" etc., while rows are normally represented by numbers, 1, 2, 3, etc. A single cell can be referred to by addressing its row and column, \"C10\". This electronic concept of cell references was first introduced in LANPAR (Language for Programming Arrays at Random) (co-invented by Rene Pardo and Remy Landau) and a variant used in VisiCalc and known as \"A1 notation\". \\nAdditionally, spreadsheets have the concept of a range, a group of cells, normally contiguous. For instance, one can refer to the first ten cells in the first column with the range \"A1:A10\". LANPAR innovated forward referencing/natural order calculation which didn\\'t re-appear until Lotus 123 and Microsoft\\'s MultiPlan Version 2.\\nUsers interact with sheets primarily through the cells. A given cell can hold data by simply entering it in, or a formula, which is normally created by preceding the text with an equals sign. Data might include the string of text hello world, the number 5 or the date 10-Sep-97. A formula would begin with the equals sign, =5*3, but this would normally be invisible because the display shows the result of the calculation, 15 in this case, not the formula itself. This may lead to confusion in some cases.\\nThe key feature of spreadsheets is the ability for a formula to refer to the contents of other cells, which may, in turn, be the result of a formula. To make such a formula, one replaces a number with a cell reference. For instance, the formula =5*C10 would produce the result of multiplying the value in cell C10 by the number 5. If C10 holds the value 3 the result will be 15. But C10 might also hold its formula referring to other cells, and so on.\\n\\nThe ability to chain formulas together is what gives a spreadsheet its power. Many problems can be broken down into a series of individual mathematical steps, and these can be assigned to individual formulas in cells. Some of these formulas can apply to ranges as well, like the SUM function that adds up all the numbers within a range.\\nSpreadsheets share many principles and traits of databases, but spreadsheets and databases are not the same things. A spreadsheet is essentially just one table, whereas a database is a collection of many tables with machine-readable semantic relationships. While it is true that a workbook that contains three sheets is indeed a file containing multiple tables that can interact with each other, it lacks the relational structure of a database. Spreadsheets and databases are interoperable—sheets can be imported into databases to become tables within them, and database queries can be exported into spreadsheets for further analysis.\\nA spreadsheet program is one of the main components of an office productivity suite, which usually also contains a word processor, a presentation program, and a database management system. Programs within a suite use similar commands for similar functions. Usually, sharing data between the components is easier than with a non-integrated collection of functionally equivalent programs. This was particularly an advantage at a time when many personal computer systems used text-mode displays and commands instead of a graphical user interface.\\n\\n\\n== History ==\\n\\n\\n=== Paper spreadsheets ===\\nHumans have organized data into tables, that is, grids of columns and rows, since ancient times.  The Babylonians used clay tablets to store data as far back as 1800 BCE.  Other examples can be found in book-keeping ledgers and astronomical records.\\nSince at least 1906 the term \"spread sheet\" has been used in accounting to mean a grid of columns and rows in a ledger. And prior to the rise of computerized spreadsheets, \"spread\" referred to a newspaper or magazine item (text or graphics) that covers two facing pages, extending across the centerfold and treating the two pages as one large page. The compound word \\'spread-sheet\\' came to mean the format used to present book-keeping ledgers—with columns for categories of expenditures across the top, invoices listed down the left margin, and the amount of each payment in the cell where its row and column intersect—which were, traditionally, a \"spread\" across facing pages of a bound ledger (book for keeping accounting records) or on oversized sheets of paper (termed \\'analysis paper\\') ruled into rows and columns in that format and approximately twice as wide as ordinary paper.\\n\\n\\n=== Electronic spreadsheets ===\\n\\n\\n==== Batch spreadsheet report generator BSRG ====\\nA batch \"spreadsheet\" is indistinguishable from a batch compiler with added input data, producing an output report, i.e., a 4GL or conventional, non-interactive, batch computer program. However, this concept of an electronic spreadsheet was outlined in the 1961 paper \"Budgeting Models and System Simulation\" by Richard Mattessich. The subsequent work by Mattessich (1964a, Chpt. 9, Accounting and Analytical Methods) and its companion volume, Mattessich (1964b, Simulation of the Firm through a Budget Computer Program) applied computerized spreadsheets to accounting and budgeting systems (on mainframe computers programmed in FORTRAN IV). These batch Spreadsheets dealt primarily with the addition or subtraction of entire columns or rows (of input variables), rather than individual cells.\\nIn 1962, this concept of the spreadsheet, called BCL for Business Computer Language, was implemented on an IBM 1130 and in 1963 was ported to an IBM 7040 by R. Brian Walsh at Marquette University, Wisconsin. This program was written in Fortran. Primitive timesharing was available on those machines. In 1968 BCL was ported by Walsh to the IBM 360/67 timesharing machine at Washington State University. It was used to assist in the teaching of finance to business students. Students were able to take information prepared by the professor and manipulate it to represent it and show ratios etc. In 1964, a book entitled Business Computer Language was written by Kimball, Stoffells and Walsh. Both the book and program were copyrighted in 1966 and years later that copyright was renewed.\\nApplied Data Resources had a FORTRAN preprocessor called Empires.\\nIn the late 1960s, Xerox used BCL to develop a more sophisticated version for their timesharing system.\\n\\n\\n==== LANPAR spreadsheet compiler ====\\nA key invention in the development of electronic spreadsheets was made by Rene K. Pardo and Remy Landau, who filed in 1970 U.S. patent 4,398,249 on a spreadsheet automatic natural order calculation algorithm. While the patent was initially rejected by the patent office as being a purely mathematical invention, following 12 years of appeals, Pardo and Landau won a landmark court case at the Predecessor Court of the Federal Circuit (CCPA), overturning the Patent Office in 1983 — establishing that \"something does not cease to become patentable merely because the point of novelty is in an algorithm.\" However, in 1995 a federal district court ruled the patent unenforceable due to inequitable conduct by the inventors during the application process. The United States Court of Appeals for the Federal Circuit upheld that decision in 1996.\\nThe actual software was called LANPAR — LANguage for Programming Arrays at Random. This was conceived and entirely developed in the summer of 1969, following Pardo and Landau\\'s recent graduation from Harvard University. Co-inventor Rene Pardo recalls that he felt that one manager at Bell Canada should not have to depend on programmers to program and modify budgeting forms, and he thought of letting users type out forms in any order and having an electronic computer calculate results in the right order (\"Forward Referencing/Natural Order Calculation\"). Pardo and Landau developed and implemented the software in 1969.\\nLANPAR was used by Bell Canada, AT&T, and the 18 operating telephone companies nationwide for their local and national budgeting operations. LANPAR was also used by General Motors. Its uniqueness was Pardo\\'s co-invention incorporating forward referencing/natural order calculation (one of the first \"non-procedural\" computer languages) as opposed to left-to-right, top to bottom sequence for calculating the results in each cell that was used by VisiCalc, SuperCalc, and the first version of MultiPlan. Without forward referencing/natural order calculation, the user had to refresh the spreadsheet until the values in all cells remained unchanged.  Once the cell values stayed constant, the user was assured that there were no remaining forward references within the spreadsheet.\\n\\n\\n==== Autoplan/Autotab spreadsheet programming language ====\\nIn 1968, three former employees from the General Electric computer company headquartered in Phoenix, Arizona set out to start their own software development house. A. Leroy Ellison, Harry N. Cantrell, and Russell E. Edwards found themselves doing a large number of calculations when making tables for the business plans that they were presenting to venture capitalists. They decided to save themselves a lot of effort and wrote a computer program that produced their tables for them. This program, originally conceived as a simple utility for their personal use, would turn out to be the first software product offered by the company that would become known as Capex Corporation. \"AutoPlan\" ran on GE\\'s Time-sharing service; afterward, a version that ran on IBM mainframes was introduced under the name AutoTab. (National CSS offered a similar product, CSSTAB, which had a moderate timesharing user base by the early 1970s. A major application was opinion research tabulation.)\\nAutoPlan/AutoTab was not a WYSIWYG interactive spreadsheet program, it was a simple scripting language for spreadsheets. The user defined the names and labels for the rows and columns, then the formulas that defined each row or column. In 1975, Autotab-II was advertised as extending the original to a maximum of \"1,500 rows and columns, combined in any proportion the user requires...\"\\nGE Information Services, which operated the time-sharing service, also launched its own spreadsheet system, Financial Analysis Language (FAL), circa 1974.  It was later supplemented by an additional spreadsheet language, TABOL, which was developed by an independent author, Oliver Vellacott in the UK.  Both FAL and TABOL were integrated with GEIS\\'s database system, DMS.\\n\\n\\n==== IBM Financial Planning and Control System ====\\nThe IBM Financial Planning and Control System was developed in 1976, by Brian Ingham at IBM Canada. It was implemented by IBM in at least 30 countries. It ran on an IBM mainframe and was the first application for financial planning developed with APL that completely hid the programming language from the end-user. Through IBM\\'s VM operating system, it was among the first programs to auto-update each copy of the application as new versions were released. Users could specify simple mathematical relationships between rows and between columns. Compared to any contemporary alternatives, it could support very large spreadsheets. It loaded actual financial planning data drawn from the legacy batch system into each user\\'s spreadsheet monthly. It was designed to optimize the power of APL through object kernels, increasing program efficiency by as much as 50 fold over traditional programming approaches.\\n\\n\\n==== APLDOT modeling language ====\\nAn example of an early \"industrial weight\" spreadsheet was APLDOT, developed in 1976 at the United States Railway Association on an IBM 360/91, running at The Johns Hopkins University Applied Physics Laboratory in Laurel, MD. The application was used successfully for many years in developing such applications as financial and costing models for the US Congress and for Conrail. APLDOT was dubbed a \"spreadsheet\" because financial analysts and strategic planners used it to solve the same problems they addressed with paper spreadsheet pads.\\n\\n\\n=== VisiCalc for the Apple II ===\\n\\nThe concept of spreadsheets became widely known due to VisiCalc, developed for the Apple II in 1979 by VisiCorp staff Dan Bricklin and Bob Frankston.\\nSignificantly, it also turned the personal computer from a hobby for computer enthusiasts into a business tool.\\nVisiCalc was the first spreadsheet that combined many of the essential features of modern spreadsheet applications, such as a WYSIWYG interactive user interface, automatic recalculation, status and formula lines, range copying with relative and absolute references, and formula building by selecting referenced cells. Unaware of LANPAR at the time, PC World magazine called VisiCalc the first electronic spreadsheet.\\nBricklin has spoken of watching his university professor create a table of calculation results on a blackboard. When the professor found an error, he had to tediously erase and rewrite several sequential entries in the table, triggering Bricklin to think that he could replicate the process on a computer, using the blackboard as the model to view results of underlying formulas. His idea became VisiCalc.\\nVisiCalc for the Apple II went on to become the first killer application, a program so compelling, people would buy a particular computer just to use it. It was ported to other computers, including CP/M machines, Atari 8-bit computers, and the Commodore PET, but VisiCalc remains best known as an Apple II program.\\n\\n\\n=== SuperCalc for CP/M ===\\nSuperCalc was a spreadsheet application published by Sorcim in 1980, and originally bundled (along with WordStar) as part of the CP/M software package included with the Osborne 1 portable computer. It quickly became the de facto standard spreadsheet for CP/M.\\n\\n\\n=== Lotus 1-2-3 spreadsheet for IBM PC DOS ===\\nThe introduction of Lotus 1-2-3 in November 1982 accelerated the acceptance of the IBM Personal Computer. It was written especially for IBM PC DOS and had improvements in speed and graphics compared to VisiCalc on the Apple II, this helped it grow in popularity. Lotus 1-2-3 was the leading spreadsheet for several years.\\n\\n\\n=== Microsoft Excel for Apple Macintosh and Windows ===\\n\\nMicrosoft released the first version of Excel for the Apple Macintosh on September 30, 1985, and then ported it to Windows, with the first version being numbered 2.05 (to synchronize with the Macintosh version 2.2) and released in November 1987. Microsoft\\'s Windows 3.x platforms of the early 1990s made it possible for their Excel spreadsheet application to take market share from Lotus. By the time Lotus responded with usable Windows products, Microsoft had begun to assemble their Office suite. By 1995, Excel was the market leader, edging out Lotus 1-2-3, and in 2013, IBM discontinued Lotus 1-2-3 altogether.\\n\\n\\n=== Google Sheets, Online, Web-based spreadsheets ===\\n\\nIn 2006 Google launched their beta release Google Sheets, a web based spreadsheet application that can be accessed by multiple users from any device type using a compatible web browser, it can be used online and offline (with or without internet connectivity). Google Sheets originated from a web-based spreadsheet application XL2Web developed by 2Web Technologies, combined with DocVerse which enabled multiple-user online collaboration of Office documents.\\nIn 2016 Collabora Online Calc was launched, notable in that the web based spreadsheet could be hosted and integrated into any environment without dependency on a 3rd party for authentication or maintenance. Collabora Online runs LibreOffice kit at its core, which grew from StarOffice that was launched 40 years ago in 1985.\\n\\n\\n=== Mainframe spreadsheets ===\\nThe Works Records System at ICI developed in 1974 on IBM 370/145\\nExecuCalc, from Parallax Systems, Inc.: Released in late 1982, ExecuCalc was the first mainframe \"visi-clone\" which duplicated the features of VisiCalc on IBM mainframes with 3270 display terminals. Over 150 copies were licensed (35 to Fortune 500 companies). DP managers were attracted to compatibility and avoiding then-expensive PC purchases (see 1983 Computerworld magazine front page article and advertisement.)\\n\\n\\n=== Other spreadsheets ===\\nNotable current spreadsheet software:\\n\\nApache OpenOffice Calc is free and open-source.\\nCalligra Sheets (formerly KCalc)\\nCollabora Online Calc for mobile and desktop apps are free, open-source, cross-platform enterprise-ready editions of LibreOffice.\\nCorel Quattro Pro (WordPerfect Office)\\nGnumeric is free and cross-platform, it is part of the GNOME Free Software Desktop Project.\\nKingsoft Spreadsheets\\nLibreOffice Calc is free, open-source and cross platform.\\nNumbers is Apple Inc.\\'s spreadsheet software, part of iWork.\\nOnlyOffice Docs Spreadsheet editor is free and open source.\\nPlanMaker (SoftMaker Office)\\nPyspread\\nSourcetable\\nDiscontinued spreadsheet software:\\n\\n20/20\\n3D-Calc for Atari ST computers\\nAs Easy As\\nFramework by Forefront Corporation/Ashton-Tate (1983–84)\\nGNU Oleo – A traditional terminal mode spreadsheet for UNIX/UNIX-like systems\\nIBM Lotus Symphony (2007)\\nJavelin Software\\nKCells\\nLucid 3-D\\nLotus Improv\\nLotus Jazz for Macintosh\\nLotus Symphony (1984)\\nMultiPlan\\nClaris\\' Resolve (Macintosh)\\nNeoOffice\\nResolver One\\nBorland\\'s Quattro Pro\\nSC IM (formerly SC - Spreadsheet Calculator)\\nSIAG\\nSuperCalc\\nT/Maker\\nTarget Planner Calc for CP/M and TRS-DOS\\nTrapeze for Macintosh\\nWingz for Macintosh\\n\\n\\n=== Other products ===\\nSeveral companies have attempted to break into the spreadsheet market with programs based on very different paradigms. Lotus introduced what is likely the most successful example, Lotus Improv, which saw some commercial success, notably in the financial world where its powerful data mining capabilities remain well respected to this day.\\nSpreadsheet 2000 attempted to dramatically simplify formula construction, but was generally not successful.\\n\\n\\n== Concepts ==\\nThe main concepts are those of a grid of cells, called a sheet, with either raw data, called values, or formulas in the cells. Formulas say how to mechanically compute new values from existing values. Values are general numbers, but can also be pure text, dates, months, etc. Extensions of these concepts include logical spreadsheets. Various tools for programming sheets, visualizing data, remotely connecting sheets, displaying cells\\' dependencies, etc. are commonly provided.\\n\\n\\n=== Cells ===\\nA \"cell\" can be thought of as a box for holding data. A single cell is usually referenced by its column and row (C2 would represent the cell containing the value 30 in the example table below). Usually rows, representing the dependent variables, are referenced in decimal notation starting from 1, while columns representing the independent variables use 26-adic bijective numeration using the letters A-Z as numerals. Its physical size can usually be tailored to its content by dragging its height or width at box intersections (or for entire columns or rows by dragging the column- or row-headers).\\n\\nAn array of cells is called a sheet or worksheet. It is analogous to an array of variables in a conventional computer program (although certain unchanging values, once entered, could be considered, by the same analogy, constants). In most implementations, many worksheets may be located within a single spreadsheet. A worksheet is simply a subset of the spreadsheet divided for the sake of clarity. Functionally, the spreadsheet operates as a whole and all cells operate as global variables within the spreadsheet (each variable having \\'read\\' access only except its containing cell).\\nA cell may contain a value or a formula, or it may simply be left empty.\\nBy convention, formulas usually begin with = sign.\\n\\n\\n==== Values ====\\nA value can be entered from the computer keyboard by directly typing into the cell itself. Alternatively, a value can be based on a formula (see below), which might perform a calculation, display the current date or time, or retrieve external data such as a stock quote or a database value.\\n\\nThe Spreadsheet Value Rule\\nComputer scientist Alan Kay used the term value rule to summarize a spreadsheet\\'s operation: a cell\\'s value relies solely on the formula the user has typed into the cell. The formula may rely on the value of other cells, but those cells are likewise restricted to user-entered data or formulas. There are no \\'side effects\\' to calculating a formula: the only output is to display the calculated result inside its occupying cell. There is no natural mechanism for permanently modifying the contents of a cell unless the user manually modifies the cell\\'s contents. In the context of programming languages, this yields a limited form of first-order functional programming.\\n\\n\\n==== Automatic recalculation ====\\nA standard of spreadsheets since the 1980s, this optional feature eliminates the need to manually request the spreadsheet program to recalculate values (nowadays typically the default option unless specifically \\'switched off\\' for large spreadsheets, usually to improve performance). Some earlier spreadsheets required a manual request to recalculate since the recalculation of large or complex spreadsheets often reduced data entry speed. Many modern spreadsheets still retain this option.\\nRecalculation generally requires that there are no circular dependencies in a spreadsheet. A dependency graph is a graph that has a vertex for each object to be updated, and an edge connecting two objects whenever one of them needs to be updated earlier than the other. Dependency graphs without circular dependencies form directed acyclic graphs, representations of partial orderings (in this case, across a spreadsheet) that can be relied upon to give a definite result.\\n\\n\\n==== Real-time update ====\\nThis feature refers to updating a cell\\'s contents periodically with a value from an external source—such as a cell in a \"remote\" spreadsheet. For shared, Web-based spreadsheets, it applies to \"immediately\" updating cells another user has updated. All dependent cells must be updated also.\\n\\n\\n==== Locked cell ====\\nOnce entered, selected cells (or the entire spreadsheet) can optionally be \"locked\" to prevent accidental overwriting. Typically this would apply to cells containing formulas but might apply to cells containing \"constants\" such as a kilogram/pounds conversion factor (2.20462262 to eight decimal places). Even though individual cells are marked as locked, the spreadsheet data are not protected until the feature is activated in the file preferences.\\n\\n\\n==== Data format ====\\nA cell or range can optionally be defined to specify how the value is displayed. The default display format is usually set by its initial content if not specifically previously set, so that for example \"31/12/2007\" or \"31 Dec 2007\" would default to the cell format of date.\\nSimilarly adding a % sign after a numeric value would tag the cell as a percentage cell format. The cell contents are not changed by this format, only the displayed value.\\nSome cell formats such as \"numeric\" or \"currency\" can also specify the number of decimal places.\\nThis can allow invalid operations (such as doing multiplication on a cell containing a date), resulting in illogical results without an appropriate warning.\\n\\n\\n==== Cell formatting ====\\nDepending on the capability of the spreadsheet application, each cell (like its counterpart the \"style\" in a word processor) can be separately formatted using the attributes of either the content (point size, color, bold or italic) or the cell (border thickness, background shading, color). To aid the readability of a spreadsheet, cell formatting may be conditionally applied to data; for example, a negative number may be displayed in red.\\nA cell\\'s formatting does not typically affect its content and depending on how cells are referenced or copied to other worksheets or applications, the formatting may not be carried with the content.\\n\\n\\n==== Named cells ====\\n\\nIn most implementations, a cell, or group of cells in a column or row, can be \"named\" enabling the user to refer to those cells by a name rather than by a grid reference. Names must be unique within the spreadsheet, but when using multiple sheets in a spreadsheet file, an identically named cell range on each sheet can be used if it is distinguished by adding the sheet name. One reason for this usage is for creating or running macros that repeat a command across many sheets. Another reason is that formulas with named variables are readily checked against the algebra they are intended to implement (they resemble Fortran expressions). The use of named variables and named functions also makes the spreadsheet structure more transparent.\\n\\n\\n===== Cell reference =====\\nIn place of a named cell, an alternative approach is to use a cell (or grid) reference. Most cell references indicate another cell in the same sheet, but a cell reference can also refer to a cell in a different sheet within the same spreadsheet, or (depending on the implementation) to a cell in another spreadsheet entirely, or a value from a remote application.\\nA typical cell reference in \"A1\" style consists of one or two case-insensitive letters to identify the column (if there are up to 256 columns: A–Z and AA–IV) followed by a row number (e.g., in the range 1–65536). Either part can be relative (it changes when the formula it is in is moved or copied), or absolute (indicated with $ in front of the part concerned of the cell reference). The alternative \"R1C1\" reference style consists of the letter R, the row number, the letter C, and the column number; relative row or column numbers are indicated by enclosing the number in square brackets. Most current spreadsheets use the A1 style, some providing the R1C1 style as a compatibility option.\\nWhen the computer calculates a formula in one cell to update the displayed value of that cell, cell reference(s) in that cell, naming some other cell(s), causes the computer to fetch the value of the named cell(s).\\nA cell on the same \"sheet\" is usually addressed as:\\n\\n=A1\\n\\nA cell on a different sheet of the same spreadsheet is usually addressed as:\\n\\n=SHEET2!A1             (that is; the first cell in sheet 2 of the same spreadsheet).\\n\\nSome spreadsheet implementations in Excel allow cell references to another spreadsheet (not the currently open and active file) on the same computer or a local network. It may also refer to a cell in another open and active spreadsheet on the same computer or network that is defined as shareable. These references contain the complete filename, such as:\\n\\n=\\'C:\\\\Documents and Settings\\\\Username\\\\My spreadsheets\\\\[main sheet]Sheet1!A1\\n\\nIn a spreadsheet, references to cells automatically update when new rows or columns are inserted or deleted. Care must be taken, however, when adding a row immediately before a set of column totals to ensure that the totals reflect the values of the additional rows—which they often do not.\\nA circular reference occurs when the formula in one cell refers—directly, or indirectly through a chain of cell references—to another cell that refers back to the first cell. Many common errors cause circular references. However, some valid techniques use circular references. These techniques, after many spreadsheet recalculations, (usually) converge on the correct values for those cells.\\n\\n\\n===== Cell ranges =====\\nLikewise, instead of using a named range of cells, a range reference can be used. Reference to a range of cells is typical of the form (A1:A6), which specifies all the cells in the range A1 through to A6. A formula such as \"=SUM(A1:A6)\" would add all the cells specified and put the result in the cell containing the formula itself.\\n\\n\\n=== Sheets ===\\nIn the earliest spreadsheets, cells were a simple two-dimensional grid. Over time, the model has expanded to include a third dimension, and in some cases a series of named grids, called sheets. The most advanced examples allow inversion and rotation operations which can slice and project the data set in various ways.\\n\\n\\n=== Formulas ===\\n\\nA formula identifies the calculation needed to place the result in the cell it is contained within. A cell containing a formula, therefore, has two display components; the formula itself and the resulting value. The formula is normally only shown when the cell is selected by \"clicking\" the mouse over a particular cell; otherwise, it contains the result of the calculation.\\nA formula assigns values to a cell or range of cells, and typically has the format:\\n\\nwhere the expression consists of:\\n\\nvalues, such as 2, 9.14 or 6.67E-11;\\nreferences to other cells, such as, e.g., A1 for a single cell or B1:B3 for a range;\\narithmetic operators, such as +, -, *, /, and others;\\nrelational operators, such as >=, <, and others; and,\\nfunctions, such as SUM(), TAN(), and many others.\\nWhen a cell contains a formula, it often contains references to other cells. Such a cell reference is a type of variable. Its value is the value of the referenced cell or some derivation of it. If that cell in turn references other cells, the value depends on the values of those. References can be relative (e.g., A1, or B1:B3), absolute (e.g., $A$1, or $B$1:$B$3) or mixed row– or column-wise absolute/relative (e.g., $A1 is column-wise absolute and A$1 is row-wise absolute).\\nThe available options for valid formulas depend on the particular spreadsheet implementation but, in general, most arithmetic operations and quite complex nested conditional operations can be performed by most of today\\'s commercial spreadsheets. Modern implementations also offer functions to access custom-build functions, remote data, and applications.\\nA formula may contain a condition (or nested conditions)—with or without an actual calculation—and is sometimes used purely to identify and highlight errors. In the example below, it is assumed the sum of a column of percentages (A1 through A6) is tested for validity and an explicit message put into the adjacent right-hand cell.\\n\\n=IF(SUM(A1:A6) > 100, \"More than 100%\", SUM(A1:A6))\\nFurther examples:\\n\\n=IF(AND(A1<>\"\",B1<>\"\"),A1/B1,\"\") means that if both cells A1 and B1 are not <> empty \"\", then divide A1 by B1 and display, other do not display anything.\\n=IF(AND(A1<>\"\",B1<>\"\"),IF(B1<>0,A1/B1,\"Division by zero\"),\"\") means that if cells A1 and B1 are not empty, and B1 is not zero, then divide A1 by B1, if B1 is zero, then display \"Division by zero\", and do not display anything if either A1 and B1 are empty.\\n=IF(OR(A1<>\"\",B1<>\"\"),\"Either A1 or B1 show text\",\"\") means to display the text if either cells A1 or B1 are not empty.\\nThe best way to build up conditional statements is step by step composing followed by trial and error testing and refining code.\\nA spreadsheet does not have to contain any formulas at all, in which case it could be considered merely a collection of data arranged in rows and columns (a database) like a calendar, timetable, or simple list. Because of its ease of use, formatting, and hyperlinking capabilities, many spreadsheets are used solely for this purpose.\\n\\n\\n=== Functions ===\\n\\nSpreadsheets usually contain several supplied functions, such as arithmetic operations (for example, summations, averages, and so forth), trigonometric functions, statistical functions, and so forth. In addition there is often a provision for user-defined functions. In Microsoft Excel, these functions are defined using Visual Basic for Applications in the supplied Visual Basic editor, and such functions are automatically accessible on the worksheet. Also, programs can be written that pull information from the worksheet, perform some calculations, and report the results back to the worksheet. In the figure, the name sq is user-assigned, and the function sq is introduced using the Visual Basic editor supplied with Excel. Name Manager displays the spreadsheet definitions of named variables x & y.\\n\\n\\n=== Subroutines ===\\n\\nFunctions themselves cannot write into the worksheet but simply return their evaluation. However, in Microsoft Excel, subroutines can write values or text found within the subroutine directly to the spreadsheet. The figure shows the Visual Basic code for a subroutine that reads each member of the named column variable x, calculates its square, and writes this value into the corresponding element of named column variable y. The y column contains no formula because its values are calculated in the subroutine, not on the spreadsheet, and simply are written in.\\n\\n\\n=== Remote spreadsheet ===\\nWhenever a reference is made to a cell or group of cells that are not located within the current physical spreadsheet file, it is considered as accessing a \"remote\" spreadsheet. The contents of the referenced cell may be accessed either on the first reference with a manual update or more recently in the case of web-based spreadsheets, as a near real-time value with a specified automatic refresh interval.\\n\\n\\n=== Charts ===\\n\\nMany spreadsheet applications permit charts and graphs (e.g., histograms, pie charts) to be generated from specified groups of cells that are dynamically re-built as cell contents change. The generated graphic component can either be embedded within the current sheet or added as a separate object. To create an Excel histogram, a formula based on the REPT function can be used.\\n\\n\\n=== Multi-dimensional spreadsheets ===\\nIn the late 1980s and early 1990s, first Javelin Software and Lotus Improv appeared. Unlike models in a conventional spreadsheet, they utilized models built on objects called variables, not on data in cells of a report. These multi-dimensional spreadsheets enabled viewing data and algorithms in various self-documenting ways, including simultaneous multiple synchronized views. For example, users of Javelin could move through the connections between variables on a diagram while seeing the logical roots and branches of each variable. This is an example of what is perhaps its primary contribution of the earlier Javelin—the concept of traceability of a user\\'s logic or model structure through its twelve views. A complex model can be dissected and understood by others who had no role in its creation.\\nIn these programs, a time series, or any variable, was an object in itself, not a collection of cells that happen to appear in a row or column. Variables could have many attributes, including complete awareness of their connections to all other variables, data references, and text and image notes. Calculations were performed on these objects, as opposed to a range of cells, so adding two-time series automatically aligns them in calendar time, or in a user-defined time frame. Data were independent of worksheets—variables, and therefore data, could not be destroyed by deleting a row, column, or entire worksheet. For instance, January\\'s costs are subtracted from January\\'s revenues, regardless of where or whether either appears in a worksheet. This permits actions later used in pivot tables, except that flexible manipulation of report tables, was but one of many capabilities supported by variables. Moreover, if costs were entered by week and revenues by month, the program could allocate or interpolate as appropriate. This object design enabled variables and whole models to reference each other with user-defined variable names and to perform multidimensional analysis and massive, but easily editable consolidations.\\nTrapeze, a spreadsheet on the Mac, went further and explicitly supported\\nnot just table columns, but also matrix operators.\\n\\n\\n=== Logical spreadsheets ===\\nSpreadsheets that have a formula language based upon logical expressions, rather than arithmetic expressions are known as logical spreadsheets. Such spreadsheets can be used to reason deductively about their cell values.\\n\\n\\n== Programming issues ==\\nJust as the early programming languages were designed to generate spreadsheet printouts, programming techniques themselves have evolved to process tables (also known as spreadsheets or matrices) of data more efficiently in the computer itself.\\n\\n\\n=== End-user development ===\\nSpreadsheets are a popular end-user development tool. EUD denotes activities or techniques in which people who are not professional developers create automated behavior and complex data objects without significant knowledge of a programming language. Many people find it easier to perform calculations in spreadsheets than by writing the equivalent sequential program. This is due to several traits of spreadsheets.\\n\\nThey use spatial relationships to define program relationships. Humans have highly developed intuitions about spaces, and of dependencies between items. Sequential programming usually requires typing line after line of text, which must be read slowly and carefully to be understood and changed.\\nThey are forgiving, allowing partial results and functions to work. One or more parts of a program can work correctly, even if other parts are unfinished or broken. This makes writing and debugging programs easier, and faster. Sequential programming usually needs every program line and character to be correct for a program to run. One error usually stops the whole program and prevents any result. Though this user-friendliness is a benefit of spreadsheet development, it often comes with an increased risk of errors.\\nModern spreadsheets allow for secondary notation. The program can be annotated with colors, typefaces, lines, etc. to provide visual cues about the meaning of elements in the program.\\nExtensions that allow users to create new functions can provide the capabilities of a functional language.\\nExtensions that allow users to build and apply models from the domain of machine learning.\\nSpreadsheets are versatile. With their Boolean logic and graphics capabilities, even electronic circuit design is possible.\\nSpreadsheets can store relational data and spreadsheet formulas can express all queries of SQL. There exists a query translator, which automatically generates the spreadsheet implementation from the SQL code.\\n\\n\\n=== Spreadsheet programs ===\\nA \"spreadsheet program\" is designed to perform general computation tasks using spatial relationships rather than time as the primary organizing principle.\\nIt is often convenient to think of a spreadsheet as a mathematical graph, where the nodes are spreadsheet cells, and the edges are references to other cells specified in formulas. This is often called the dependency graph of the spreadsheet. References between cells can take advantage of spatial concepts such as relative position and absolute position, as well as named locations, to make the spreadsheet formulas easier to understand and manage.\\nSpreadsheets usually attempt to automatically update cells when the cells depend on change. The earliest spreadsheets used simple tactics like evaluating cells in a particular order, but modern spreadsheets calculate following a minimal recomputation order from the dependency graph. Later spreadsheets also include a limited ability to propagate values in reverse, altering source values so that a particular answer is reached in a certain cell. Since spreadsheet cell formulas are not generally invertible, though, this technique is of somewhat limited value.\\nMany of the concepts common to sequential programming models have analogs in the spreadsheet world. For example, the sequential model of the indexed loop is usually represented as a table of cells, with similar formulas (normally differing only in which cells they reference).\\nSpreadsheets have evolved to use scripting programming languages like VBA as a tool for extensibility beyond what the spreadsheet language makes easy.\\n\\n\\n== Shortcomings ==\\nWhile spreadsheets represented a major step forward in quantitative modeling, they have deficiencies. Their shortcomings include the perceived unfriendliness of alpha-numeric cell addresses.\\n\\nResearch by ClusterSeven has shown huge discrepancies in the way financial institutions and corporate entities understand, manage and police their often vast estates of spreadsheets and unstructured financial data (including comma-separated values (CSV) files and Microsoft Access databases). One study in early 2011 of nearly 1,500 people in the UK found that 57% of spreadsheet users have never received formal training on the spreadsheet package they use. 72% said that no internal department checks their spreadsheets for accuracy. Only 13% said that Internal Audit reviews their spreadsheets, while a mere 1% receive checks from their risk department.\\nSpreadsheets can have reliability problems. Research studies estimate that around 1% of all formulas in operational spreadsheets are in error.\\nDespite the high error risks often associated with spreadsheet authorship and use, specific steps can be taken to significantly enhance control and reliability by structurally reducing the likelihood of error occurrence at their source.\\nThe practical expressiveness of spreadsheets can be limited unless their modern features are used. Several factors contribute to this limitation. Implementing a complex model on a cell-at-a-time basis requires tedious attention to detail. Authors have difficulty remembering the meanings of hundreds or thousands of cell addresses that appear in formulas.\\nThese drawbacks are mitigated by the use of named variables for cell designations, and employing variables in formulas rather than cell locations and cell-by-cell manipulations. Graphs can be used to show instantly how results are changed by changes in parameter values. The spreadsheet can be made invisible except for a transparent user interface that requests pertinent input from the user, displays results requested by the user, creates reports, and has built-in error traps to prompt correct input.\\nSimilarly, formulas expressed in terms of cell addresses are hard to keep straight and hard to audit. Research shows that spreadsheet auditors who check numerical results and cell formulas find no more errors than auditors who only check numerical results. That is another reason to use named variables and formulas employing named variables.\\nSpecifically, spreadsheets typically contain many copies of the same formula. When the formula is modified, the user has to change every cell containing that formula. In contrast, most computer languages allow a formula to appear only once in the code and achieve repetition using loops: making them much easier to implement and audit.\\nThe alteration of a dimension demands major surgery. When rows (or columns) are added to or deleted from a table, one has to adjust the size of many downstream tables that depend on the table being changed. In the process, it is often necessary to move other cells around to make room for the new columns or rows and to adjust graph data sources. In large spreadsheets, this can be extremely time-consuming.\\nAdding or removing a dimension is so difficult, one generally has to start over. The spreadsheet as a paradigm forces one to decide on dimensionality right of the beginning of one\\'s spreadsheet creation, even though it is often most natural to make these choices after one\\'s spreadsheet model has matured. The desire to add and remove dimensions also arises in parametric and sensitivity analyses.\\nCollaboration in authoring spreadsheet formulas can be difficult when such collaboration occurs at the level of cells and cell addresses.\\nOther problems associated with spreadsheets include:\\n\\nSome sources advocate the use of specialized software instead of spreadsheets for some applications (budgeting, statistics)\\nThe Microsoft xls file format which is the default file format used in versions prior to 2007 had a capacity limit of 65,536 rows by 256 columns (216 and 28 respectively).  This presents a problem for people using larger datasets, and can result in data loss. In spite of the time passed, a recent example is the loss of COVID-19 positives in the British statistics for September and October 2020 when the Microsoft xls file format had been used in a legacy computer system.\\nLack of auditing and revision control. This makes it difficult to determine who changed what and when. This can cause problems with regulatory compliance. Lack of revision control greatly increases the risk of errors due to the inability to track, isolate and test changes made to a document. Modern spreadsheets include revision control.\\nLack of security. Spreadsheets lack controls on who can see and modify particular data. This, combined with the lack of auditing above, can make it easy for someone to commit fraud.\\nBecause they are loosely structured, it is easy for someone to introduce an error, either accidentally or intentionally, by entering information in the wrong place or expressing dependencies among cells (such as in a formula) incorrectly.\\nThe results of a formula (example \"=A1*B1\") applies only to a single cell (that is, the cell the formula is located in—in this case perhaps C1), even though it can \"extract\" data from many other cells, and even real-time dates and actual times. This means that to cause a similar calculation on an array of cells, an almost identical formula (but residing in its own \"output\" cell) must be repeated for each row of the \"input\" array. This differs from a \"formula\" in a conventional computer program, which typically makes one calculation that it applies to all the input in turn. With current spreadsheets, this forced repetition of near-identical formulas can have detrimental consequences from a quality assurance standpoint and is often the cause of many spreadsheet errors. Some spreadsheets have array formulas to address this issue.\\nTrying to manage the sheer volume of spreadsheets that may exist in an organization without proper security, audit trails, the unintentional introduction of errors, and other items listed above can become overwhelming.\\nWhile there are built-in and third-party tools for desktop spreadsheet applications that address some of these shortcomings, awareness, and use of these is generally low. A good example of this is that many professionals in the financial field \"don\\'t know\" how their spreadsheets are audited; only 6% invest in a third-party solution\\n\\n\\n== Spreadsheet risk ==\\n\\nSpreadsheet risk is the risk associated with deriving a materially incorrect value from a spreadsheet application that will be utilized in making a related (usually numerically based) decision. Examples include the valuation of an asset, the determination of financial accounts, the calculation of medicinal doses, or the size of a load-bearing beam for structural engineering. The risk may arise from inputting erroneous or fraudulent data values, from mistakes (or incorrect changes) within the logic of the spreadsheet or the omission of relevant updates (e.g., out of date exchange rates). Some single-instance errors have exceeded US$1 billion. Because spreadsheet risk is principally linked to the actions (or inaction) of individuals it is defined as a sub-category of operational risk.\\nDespite this, research carried out by ClusterSeven revealed that around half (48%) of c-level executives and senior managers at firms reporting annual revenues over £50m said there were either no usage controls at all or poorly applied manual processes over the use of spreadsheets at the firms.\\nIn 2013 Thomas Herndon, a graduate student of economics at the University of Massachusetts Amherst found major coding flaws in the spreadsheet used by the economists Carmen Reinhart and Kenneth Rogoff in Growth in a Time of Debt, a very influential 2010 journal article. The Reinhart and Rogoff article was widely used as justification to drive 2010–2013 European austerity programs.\\n\\n\\n== See also ==\\nAttribute-value system\\nComparison of spreadsheet software\\nMoving and copying in spreadsheets\\nList of spreadsheet software\\nModel audit\\n\\n\\n== Notes ==\\n\\n\\n== References ==\\n\\n\\n== External links ==\\n\\ncomp.apps.spreadsheets FAQ by Russell Schulz\\nExtending the Concept of Spreadsheet by Jocelyn Paine\\nSpreadsheet – Its First Computerization (1961–1964) by Richard Mattessich\\nCICS history and introduction of IBM 3270 by Bob Yelavich\\nAutoplan & Autotab article Archived 2019-12-07 at the Wayback Machine by Creative Karma\\nSpreadsheets in Science'}]"
      ]
     },
     "execution_count": 7,
     "metadata": {},
     "output_type": "execute_result"
    }
   ],
   "source": [
    "print(f\"Saved to: {OUTPUT_PATH}\")\n",
    "print(f\"Total articles: {written}\")\n",
    "print(f\"Total words: {total_words:,}\")\n",
    "\n",
    "sample = []\n",
    "with open(OUTPUT_PATH, \"r\", encoding=\"utf-8\") as f:\n",
    "    for i, line in enumerate(f):\n",
    "        if i >= 3:\n",
    "            break\n",
    "        sample.append(json.loads(line))\n",
    "sample"
   ]
  }
 ],
 "metadata": {
  "kernelspec": {
   "display_name": "Python 3",
   "language": "python",
   "name": "python3"
  },
  "language_info": {
   "codemirror_mode": {
    "name": "ipython",
    "version": 3
   },
   "file_extension": ".py",
   "mimetype": "text/x-python",
   "name": "python",
   "nbconvert_exporter": "python",
   "pygments_lexer": "ipython3",
   "version": "3.11.10"
  }
 },
 "nbformat": 4,
 "nbformat_minor": 5
}
