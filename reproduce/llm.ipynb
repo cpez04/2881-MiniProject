{
 "cells": [
  {
   "cell_type": "code",
   "execution_count": null,
   "id": "8d3cde98",
   "metadata": {},
   "outputs": [],
   "source": [
    "%pip install transformers accelerate torch sentencepiece --quiet\n"
   ]
  },
  {
   "cell_type": "code",
   "execution_count": 1,
   "id": "7177d74d",
   "metadata": {},
   "outputs": [],
   "source": [
    "import os\n",
    "import json\n",
    "import math\n",
    "from dataclasses import dataclass\n",
    "from tqdm import tqdm\n",
    "\n",
    "import torch\n",
    "from transformers import AutoTokenizer, AutoModelForCausalLM"
   ]
  },
  {
   "cell_type": "code",
   "execution_count": 2,
   "id": "98011811",
   "metadata": {},
   "outputs": [
    {
     "name": "stdout",
     "output_type": "stream",
     "text": [
      "Using device=cpu, dtype=torch.float32, writing to ../outputs/Llama-2-7b-chat-hf_preds.jsonl\n"
     ]
    }
   ],
   "source": [
    "model_name = \"meta-llama/Llama-2-7b-chat-hf\"\n",
    "\n",
    "# I/O paths\n",
    "queries_path = \"../data/query_data.jsonl\"\n",
    "os.makedirs(\"../outputs\", exist_ok=True)\n",
    "model_stub = model_name.split(\"/\")[-1].replace(\":\", \"_\")\n",
    "out_path = f\"../outputs/{model_stub}_preds.jsonl\"\n",
    "\n",
    "# Decoding config (as requested)\n",
    "gen_cfg = dict(\n",
    "    max_new_tokens=512,\n",
    "    temperature=0.2,\n",
    "    do_sample=True,\n",
    "    top_k=60,\n",
    "    top_p=0.9,\n",
    "    num_beams=1,\n",
    "    repetition_penalty=1.8,\n",
    ")\n",
    "\n",
    "# Safety defaults\n",
    "device = \"cuda\" if torch.cuda.is_available() else \"cpu\"\n",
    "torch_dtype = torch.float16 if torch.cuda.is_available() else torch.float32\n",
    "print(f\"Using device={device}, dtype={torch_dtype}, writing to {out_path}\")\n"
   ]
  },
  {
   "cell_type": "code",
   "execution_count": null,
   "id": "43c8bb7e",
   "metadata": {},
   "outputs": [],
   "source": [
    "tokenizer = AutoTokenizer.from_pretrained(model_name, use_fast=True, trust_remote_code=True)\n",
    "\n",
    "# Some chat models don't have an explicit pad token; fall back to EOS for batching/padding\n",
    "if tokenizer.pad_token_id is None and tokenizer.eos_token_id is not None:\n",
    "    tokenizer.pad_token = tokenizer.eos_token\n",
    "\n",
    "model = AutoModelForCausalLM.from_pretrained(\n",
    "    model_name,\n",
    "    torch_dtype=torch_dtype,\n",
    "    device_map=\"auto\",                 # uses all available GPUs/CPU\n",
    "    trust_remote_code=True,\n",
    ")\n",
    "\n",
    "model.eval()\n",
    "print(\"Model & tokenizer loaded.\")"
   ]
  },
  {
   "cell_type": "code",
   "execution_count": null,
   "id": "bd944af4",
   "metadata": {},
   "outputs": [],
   "source": [
    "# Load the prepared prompts (context + adversarial instruction)\n",
    "queries = [json.loads(l) for l in open(queries_path, \"r\", encoding=\"utf-8\")]\n",
    "print(f\"Loaded {len(queries)} prompts from {queries_path}\")\n",
    "\n",
    "written = 0\n",
    "with open(out_path, \"w\", encoding=\"utf-8\") as fout:\n",
    "    for ex in tqdm(queries, desc=f\"Generating with {model_stub}\"):\n",
    "        prompt = ex[\"prompt\"]\n",
    "        # Tokenize with safe truncation (keep room for generation)\n",
    "        inputs = tokenizer(prompt, return_tensors=\"pt\", truncation=False)\n",
    "\n",
    "        # Move to device\n",
    "        inputs = {k: v.to(model.device) for k, v in inputs.items()}\n",
    "\n",
    "        with torch.no_grad():\n",
    "            outputs = model.generate(\n",
    "                **inputs,\n",
    "                max_new_tokens=gen_cfg[\"max_new_tokens\"],\n",
    "                do_sample=gen_cfg[\"do_sample\"],\n",
    "                temperature=gen_cfg[\"temperature\"],\n",
    "                top_k=gen_cfg[\"top_k\"],\n",
    "                top_p=gen_cfg[\"top_p\"],\n",
    "                num_beams=gen_cfg[\"num_beams\"],\n",
    "                repetition_penalty=gen_cfg[\"repetition_penalty\"],\n",
    "                eos_token_id=tokenizer.eos_token_id,\n",
    "                pad_token_id=tokenizer.pad_token_id,\n",
    "            )\n",
    "\n",
    "        decoded = tokenizer.decode(outputs[0], skip_special_tokens=True)\n",
    "\n",
    "        # Save one JSON line per example\n",
    "        record = {\n",
    "            \"model\": model_name,\n",
    "            \"anchor\": ex[\"anchor\"],\n",
    "            \"context\": ex[\"context\"],\n",
    "            \"prompt\": prompt,\n",
    "            \"output\": decoded,\n",
    "        }\n",
    "        fout.write(json.dumps(record, ensure_ascii=False) + \"\\n\")\n",
    "        written += 1\n",
    "\n",
    "print(f\"Saved {written} generations to {out_path}\")"
   ]
  },
  {
   "cell_type": "code",
   "execution_count": null,
   "id": "8fcb5dd1",
   "metadata": {},
   "outputs": [],
   "source": [
    "shown = 0\n",
    "for line in open(out_path, \"r\", encoding=\"utf-8\"):\n",
    "    obj = json.loads(line)\n",
    "    print(\"———\")\n",
    "    print(obj[\"output\"][:800])  # first 800 chars\n",
    "    shown += 1\n",
    "    if shown >= 2:\n",
    "        break"
   ]
  }
 ],
 "metadata": {
  "kernelspec": {
   "display_name": "Python 3",
   "language": "python",
   "name": "python3"
  },
  "language_info": {
   "codemirror_mode": {
    "name": "ipython",
    "version": 3
   },
   "file_extension": ".py",
   "mimetype": "text/x-python",
   "name": "python",
   "nbconvert_exporter": "python",
   "pygments_lexer": "ipython3",
   "version": "3.11.10"
  }
 },
 "nbformat": 4,
 "nbformat_minor": 5
}
