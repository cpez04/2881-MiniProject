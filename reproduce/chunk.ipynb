{
 "cells": [
  {
   "cell_type": "code",
   "execution_count": 1,
   "id": "6cb115fa",
   "metadata": {},
   "outputs": [],
   "source": [
    "from transformers import AutoTokenizer\n",
    "import json\n",
    "from tqdm import tqdm\n",
    "import os\n",
    "\n",
    "in_path = \"../data/wiki_content.jsonl\"\n",
    "out_path = \"../data/datastore_chunks.jsonl\"\n",
    "os.makedirs(os.path.dirname(out_path), exist_ok=True)"
   ]
  },
  {
   "cell_type": "code",
   "execution_count": 2,
   "id": "02a0c203",
   "metadata": {},
   "outputs": [
    {
     "data": {
      "application/vnd.jupyter.widget-view+json": {
       "model_id": "a53191bccd25421ab91f25e719014bf7",
       "version_major": 2,
       "version_minor": 0
      },
      "text/plain": [
       "tokenizer_config.json:   0%|          | 0.00/26.0 [00:00<?, ?B/s]"
      ]
     },
     "metadata": {},
     "output_type": "display_data"
    },
    {
     "data": {
      "application/vnd.jupyter.widget-view+json": {
       "model_id": "b16601d502584bf0b4c08333d3b7954f",
       "version_major": 2,
       "version_minor": 0
      },
      "text/plain": [
       "config.json:   0%|          | 0.00/665 [00:00<?, ?B/s]"
      ]
     },
     "metadata": {},
     "output_type": "display_data"
    },
    {
     "data": {
      "application/vnd.jupyter.widget-view+json": {
       "model_id": "e5df01aec4904e8da14fa7994a2b2f32",
       "version_major": 2,
       "version_minor": 0
      },
      "text/plain": [
       "vocab.json:   0%|          | 0.00/1.04M [00:00<?, ?B/s]"
      ]
     },
     "metadata": {},
     "output_type": "display_data"
    },
    {
     "data": {
      "application/vnd.jupyter.widget-view+json": {
       "model_id": "cae356d2866546fb819e0c9c7bdcf1a0",
       "version_major": 2,
       "version_minor": 0
      },
      "text/plain": [
       "merges.txt:   0%|          | 0.00/456k [00:00<?, ?B/s]"
      ]
     },
     "metadata": {},
     "output_type": "display_data"
    },
    {
     "data": {
      "application/vnd.jupyter.widget-view+json": {
       "model_id": "11edd64572734697a7dd3efcb3b798d3",
       "version_major": 2,
       "version_minor": 0
      },
      "text/plain": [
       "tokenizer.json:   0%|          | 0.00/1.36M [00:00<?, ?B/s]"
      ]
     },
     "metadata": {},
     "output_type": "display_data"
    }
   ],
   "source": [
    "tok = AutoTokenizer.from_pretrained(\"gpt2\", use_fast=True)\n",
    "\n",
    "chunk_size = 256\n",
    "stride = 128 \n",
    "written = 0"
   ]
  },
  {
   "cell_type": "code",
   "execution_count": 3,
   "id": "d2a8ba14",
   "metadata": {},
   "outputs": [],
   "source": [
    "def chunk_text(text, chunk_size=256, stride=128):\n",
    "    ids = tok.encode(text, add_special_tokens=False)\n",
    "    chunks = []\n",
    "    start = 0\n",
    "    while start < len(ids):\n",
    "        end = min(start + chunk_size, len(ids))\n",
    "        chunk = tok.decode(ids[start:end])\n",
    "        chunks.append(chunk)\n",
    "        if end == len(ids):\n",
    "            break\n",
    "        start += stride\n",
    "    return chunks"
   ]
  },
  {
   "cell_type": "code",
   "execution_count": 4,
   "id": "48425e48",
   "metadata": {},
   "outputs": [
    {
     "name": "stderr",
     "output_type": "stream",
     "text": [
      "Chunking: 0it [00:00, ?it/s]Token indices sequence length is longer than the specified maximum sequence length for this model (1402 > 1024). Running this sequence through the model will result in indexing errors\n",
      "huggingface/tokenizers: The current process just got forked, after parallelism has already been used. Disabling parallelism to avoid deadlocks...\n",
      "To disable this warning, you can either:\n",
      "\t- Avoid using `tokenizers` before the fork if possible\n",
      "\t- Explicitly set the environment variable TOKENIZERS_PARALLELISM=(true | false)\n",
      "Chunking: 1165it [00:35, 32.98it/s] "
     ]
    },
    {
     "name": "stdout",
     "output_type": "stream",
     "text": [
      "Wrote 17575 chunks to ../data/datastore_chunks.jsonl\n"
     ]
    },
    {
     "name": "stderr",
     "output_type": "stream",
     "text": [
      "\n"
     ]
    }
   ],
   "source": [
    "with open(out_path, \"w\", encoding=\"utf-8\") as fout:\n",
    "    for i, line in enumerate(tqdm(open(in_path, \"r\", encoding=\"utf-8\"), desc=\"Chunking\")):\n",
    "        obj = json.loads(line)\n",
    "        title, text = obj[\"title\"], obj[\"text\"]\n",
    "        for j, chunk in enumerate(chunk_text(text, chunk_size, stride)):\n",
    "            fout.write(json.dumps({\"doc_id\": i, \"title\": title, \"chunk_id\": j, \"chunk\": chunk}, ensure_ascii=False) + \"\\n\")\n",
    "            written += 1\n",
    "\n",
    "print(f\"Wrote {written} chunks to {out_path}\")"
   ]
  }
 ],
 "metadata": {
  "kernelspec": {
   "display_name": "Python 3",
   "language": "python",
   "name": "python3"
  },
  "language_info": {
   "codemirror_mode": {
    "name": "ipython",
    "version": 3
   },
   "file_extension": ".py",
   "mimetype": "text/x-python",
   "name": "python",
   "nbconvert_exporter": "python",
   "pygments_lexer": "ipython3",
   "version": "3.11.10"
  }
 },
 "nbformat": 4,
 "nbformat_minor": 5
}
